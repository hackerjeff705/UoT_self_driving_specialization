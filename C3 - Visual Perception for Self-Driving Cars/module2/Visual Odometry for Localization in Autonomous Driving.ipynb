{
 "cells": [
  {
   "cell_type": "markdown",
   "metadata": {},
   "source": [
    "# Visual Odometry for Localization in Autonomous Driving\n",
    "\n",
    "Welcome to the assignment for Module 2: Visual Features - Detection, Description and Matching. In this assignment, you will practice using the material you have learned to estimate an autonomous vehicle trajectory by images taken with a monocular camera set up on the vehicle.\n",
    "\n",
    "\n",
    "**In this assignment, you will:**\n",
    "- Extract  features from the photographs  taken with a camera setup on the vehicle.\n",
    "- Use the extracted features to find matches between the features in different photographs.\n",
    "- Use the found matches to estimate the camera motion between subsequent photographs. \n",
    "- Use the estimated camera motion to build the vehicle trajectory.\n",
    "\n",
    "For most exercises, you are provided with a suggested outline. You are encouraged to diverge from the outline if you think there is a better, more efficient way to solve a problem.\n",
    "\n",
    "You are only allowed to use the packages loaded bellow and the custom functions explained in the notebook. Run the cell bellow to import the required packages:"
   ]
  },
  {
   "cell_type": "code",
   "execution_count": 2,
   "metadata": {},
   "outputs": [
    {
     "name": "stdout",
     "output_type": "stream",
     "text": [
      "The autoreload extension is already loaded. To reload it, use:\n",
      "  %reload_ext autoreload\n"
     ]
    }
   ],
   "source": [
    "import numpy as np\n",
    "import cv2\n",
    "from matplotlib import pyplot as plt\n",
    "from m2bk import *\n",
    "import sys\n",
    "\n",
    "%matplotlib inline\n",
    "%load_ext autoreload\n",
    "%autoreload 2\n",
    "\n",
    "np.random.seed(1)\n",
    "# np.set_printoptions(threshold=np.nan)\n",
    "np.set_printoptions(threshold=sys.maxsize)"
   ]
  },
  {
   "cell_type": "code",
   "execution_count": 4,
   "metadata": {},
   "outputs": [
    {
     "name": "stderr",
     "output_type": "stream",
     "text": [
      "a data\n",
      "a data/depth\n",
      "a data/rgb\n",
      "a data/rgb/frame_00001.png\n",
      "a data/rgb/frame_00002.png\n",
      "a data/rgb/frame_00003.png\n",
      "a data/rgb/frame_00004.png\n",
      "a data/rgb/frame_00005.png\n",
      "a data/rgb/frame_00006.png\n",
      "a data/rgb/frame_00007.png\n",
      "a data/rgb/frame_00008.png\n",
      "a data/rgb/frame_00009.png\n",
      "a data/rgb/frame_00010.png\n",
      "a data/rgb/frame_00011.png\n",
      "a data/rgb/frame_00012.png\n",
      "a data/rgb/frame_00013.png\n",
      "a data/rgb/frame_00014.png\n",
      "a data/rgb/frame_00015.png\n",
      "a data/rgb/frame_00016.png\n",
      "a data/rgb/frame_00017.png\n",
      "a data/rgb/frame_00018.png\n",
      "a data/rgb/frame_00019.png\n",
      "a data/rgb/frame_00020.png\n",
      "a data/rgb/frame_00021.png\n",
      "a data/rgb/frame_00022.png\n",
      "a data/rgb/frame_00023.png\n",
      "a data/rgb/frame_00024.png\n",
      "a data/rgb/frame_00025.png\n",
      "a data/rgb/frame_00026.png\n",
      "a data/rgb/frame_00027.png\n",
      "a data/rgb/frame_00028.png\n",
      "a data/rgb/frame_00029.png\n",
      "a data/rgb/frame_00030.png\n",
      "a data/rgb/frame_00031.png\n",
      "a data/rgb/frame_00032.png\n",
      "a data/rgb/frame_00033.png\n",
      "a data/rgb/frame_00034.png\n",
      "a data/rgb/frame_00035.png\n",
      "a data/rgb/frame_00036.png\n",
      "a data/rgb/frame_00037.png\n",
      "a data/rgb/frame_00038.png\n",
      "a data/rgb/frame_00039.png\n",
      "a data/rgb/frame_00040.png\n",
      "a data/rgb/frame_00041.png\n",
      "a data/rgb/frame_00042.png\n",
      "a data/rgb/frame_00043.png\n",
      "a data/rgb/frame_00044.png\n",
      "a data/rgb/frame_00045.png\n",
      "a data/rgb/frame_00046.png\n",
      "a data/rgb/frame_00047.png\n",
      "a data/rgb/frame_00048.png\n",
      "a data/rgb/frame_00049.png\n",
      "a data/rgb/frame_00050.png\n",
      "a data/rgb/frame_00051.png\n",
      "a data/rgb/frame_00052.png\n",
      "a data/depth/frame_00001.dat\n",
      "a data/depth/frame_00002.dat\n",
      "a data/depth/frame_00003.dat\n",
      "a data/depth/frame_00004.dat\n",
      "a data/depth/frame_00005.dat\n",
      "a data/depth/frame_00006.dat\n",
      "a data/depth/frame_00007.dat\n",
      "a data/depth/frame_00008.dat\n",
      "a data/depth/frame_00009.dat\n",
      "a data/depth/frame_00010.dat\n",
      "a data/depth/frame_00011.dat\n",
      "a data/depth/frame_00012.dat\n",
      "a data/depth/frame_00013.dat\n",
      "a data/depth/frame_00014.dat\n",
      "a data/depth/frame_00015.dat\n",
      "a data/depth/frame_00016.dat\n",
      "a data/depth/frame_00017.dat\n",
      "a data/depth/frame_00018.dat\n",
      "a data/depth/frame_00019.dat\n",
      "a data/depth/frame_00020.dat\n",
      "a data/depth/frame_00021.dat\n",
      "a data/depth/frame_00022.dat\n",
      "a data/depth/frame_00023.dat\n",
      "a data/depth/frame_00024.dat\n",
      "a data/depth/frame_00025.dat\n",
      "a data/depth/frame_00026.dat\n",
      "a data/depth/frame_00027.dat\n",
      "a data/depth/frame_00028.dat\n",
      "a data/depth/frame_00029.dat\n",
      "a data/depth/frame_00030.dat\n",
      "a data/depth/frame_00031.dat\n",
      "a data/depth/frame_00032.dat\n",
      "a data/depth/frame_00033.dat\n",
      "a data/depth/frame_00034.dat\n",
      "a data/depth/frame_00035.dat\n",
      "a data/depth/frame_00036.dat\n",
      "a data/depth/frame_00037.dat\n",
      "a data/depth/frame_00038.dat\n",
      "a data/depth/frame_00039.dat\n",
      "a data/depth/frame_00040.dat\n",
      "a data/depth/frame_00041.dat\n",
      "a data/depth/frame_00042.dat\n",
      "a data/depth/frame_00043.dat\n",
      "a data/depth/frame_00044.dat\n",
      "a data/depth/frame_00045.dat\n",
      "a data/depth/frame_00046.dat\n",
      "a data/depth/frame_00047.dat\n",
      "a data/depth/frame_00048.dat\n",
      "a data/depth/frame_00049.dat\n",
      "a data/depth/frame_00050.dat\n",
      "a data/depth/frame_00051.dat\n",
      "a data/depth/frame_00052.dat\n"
     ]
    }
   ],
   "source": [
    "!tar cvzfh data.tar.gz data"
   ]
  },
  {
   "cell_type": "markdown",
   "metadata": {},
   "source": [
    "## 0 - Loading and Visualizing the Data\n",
    "We provide you with a convenient dataset handler class to read and iterate through samples taken from the CARLA simulator. Run the following code to create a dataset handler object. "
   ]
  },
  {
   "cell_type": "code",
   "execution_count": 3,
   "metadata": {},
   "outputs": [
    {
     "ename": "ValueError",
     "evalue": "could not convert string to float: '/home/jovyan/work-ro/module2/data/depth/frame_00001.dat'",
     "output_type": "error",
     "traceback": [
      "\u001b[1;31m---------------------------------------------------------------------------\u001b[0m",
      "\u001b[1;31mValueError\u001b[0m                                Traceback (most recent call last)",
      "\u001b[1;32m<ipython-input-3-1c9b17edeeec>\u001b[0m in \u001b[0;36m<module>\u001b[1;34m\u001b[0m\n\u001b[1;32m----> 1\u001b[1;33m \u001b[0mdataset_handler\u001b[0m \u001b[1;33m=\u001b[0m \u001b[0mDatasetHandler\u001b[0m\u001b[1;33m(\u001b[0m\u001b[1;33m)\u001b[0m\u001b[1;33m\u001b[0m\u001b[1;33m\u001b[0m\u001b[0m\n\u001b[0m",
      "\u001b[1;32mD:\\Autonomous_Systems\\Coursera\\C3 - Visual Perception for Self-Driving Cars\\module2\\m2bk.py\u001b[0m in \u001b[0;36m__init__\u001b[1;34m(self)\u001b[0m\n\u001b[0;32m     33\u001b[0m \u001b[1;33m\u001b[0m\u001b[0m\n\u001b[0;32m     34\u001b[0m         \u001b[1;31m# Read first frame\u001b[0m\u001b[1;33m\u001b[0m\u001b[1;33m\u001b[0m\u001b[1;33m\u001b[0m\u001b[0m\n\u001b[1;32m---> 35\u001b[1;33m         \u001b[0mself\u001b[0m\u001b[1;33m.\u001b[0m\u001b[0mread_frame\u001b[0m\u001b[1;33m(\u001b[0m\u001b[1;33m)\u001b[0m\u001b[1;33m\u001b[0m\u001b[1;33m\u001b[0m\u001b[0m\n\u001b[0m\u001b[0;32m     36\u001b[0m         \u001b[0mprint\u001b[0m\u001b[1;33m(\u001b[0m\u001b[1;34m\"\\r\"\u001b[0m \u001b[1;33m+\u001b[0m \u001b[1;34m' '\u001b[0m\u001b[1;33m*\u001b[0m\u001b[1;36m20\u001b[0m \u001b[1;33m+\u001b[0m \u001b[1;34m\"\\r\"\u001b[0m\u001b[1;33m,\u001b[0m \u001b[0mend\u001b[0m\u001b[1;33m=\u001b[0m\u001b[1;34m''\u001b[0m\u001b[1;33m)\u001b[0m\u001b[1;33m\u001b[0m\u001b[1;33m\u001b[0m\u001b[0m\n\u001b[0;32m     37\u001b[0m \u001b[1;33m\u001b[0m\u001b[0m\n",
      "\u001b[1;32mD:\\Autonomous_Systems\\Coursera\\C3 - Visual Perception for Self-Driving Cars\\module2\\m2bk.py\u001b[0m in \u001b[0;36mread_frame\u001b[1;34m(self)\u001b[0m\n\u001b[0;32m     37\u001b[0m \u001b[1;33m\u001b[0m\u001b[0m\n\u001b[0;32m     38\u001b[0m     \u001b[1;32mdef\u001b[0m \u001b[0mread_frame\u001b[0m\u001b[1;33m(\u001b[0m\u001b[0mself\u001b[0m\u001b[1;33m)\u001b[0m\u001b[1;33m:\u001b[0m\u001b[1;33m\u001b[0m\u001b[1;33m\u001b[0m\u001b[0m\n\u001b[1;32m---> 39\u001b[1;33m         \u001b[0mself\u001b[0m\u001b[1;33m.\u001b[0m\u001b[0m_read_depth\u001b[0m\u001b[1;33m(\u001b[0m\u001b[1;33m)\u001b[0m\u001b[1;33m\u001b[0m\u001b[1;33m\u001b[0m\u001b[0m\n\u001b[0m\u001b[0;32m     40\u001b[0m         \u001b[0mself\u001b[0m\u001b[1;33m.\u001b[0m\u001b[0m_read_image\u001b[0m\u001b[1;33m(\u001b[0m\u001b[1;33m)\u001b[0m\u001b[1;33m\u001b[0m\u001b[1;33m\u001b[0m\u001b[0m\n\u001b[0;32m     41\u001b[0m \u001b[1;33m\u001b[0m\u001b[0m\n",
      "\u001b[1;32mD:\\Autonomous_Systems\\Coursera\\C3 - Visual Perception for Self-Driving Cars\\module2\\m2bk.py\u001b[0m in \u001b[0;36m_read_depth\u001b[1;34m(self)\u001b[0m\n\u001b[0;32m     53\u001b[0m             \u001b[0mzeroes\u001b[0m \u001b[1;33m=\u001b[0m \u001b[1;34m\"0\"\u001b[0m \u001b[1;33m*\u001b[0m \u001b[1;33m(\u001b[0m\u001b[1;36m5\u001b[0m \u001b[1;33m-\u001b[0m \u001b[0mlen\u001b[0m\u001b[1;33m(\u001b[0m\u001b[0mstr\u001b[0m\u001b[1;33m(\u001b[0m\u001b[0mi\u001b[0m\u001b[1;33m)\u001b[0m\u001b[1;33m)\u001b[0m\u001b[1;33m)\u001b[0m\u001b[1;33m\u001b[0m\u001b[1;33m\u001b[0m\u001b[0m\n\u001b[0;32m     54\u001b[0m             \u001b[0mdepth_name\u001b[0m \u001b[1;33m=\u001b[0m \u001b[1;34m\"{0}/frame_{1}{2}.dat\"\u001b[0m\u001b[1;33m.\u001b[0m\u001b[0mformat\u001b[0m\u001b[1;33m(\u001b[0m\u001b[0mself\u001b[0m\u001b[1;33m.\u001b[0m\u001b[0mdepth_dir\u001b[0m\u001b[1;33m,\u001b[0m \u001b[0mzeroes\u001b[0m\u001b[1;33m,\u001b[0m \u001b[0mstr\u001b[0m\u001b[1;33m(\u001b[0m\u001b[0mi\u001b[0m\u001b[1;33m)\u001b[0m\u001b[1;33m)\u001b[0m\u001b[1;33m\u001b[0m\u001b[1;33m\u001b[0m\u001b[0m\n\u001b[1;32m---> 55\u001b[1;33m             depth = np.loadtxt(\n\u001b[0m\u001b[0;32m     56\u001b[0m                 \u001b[0mdepth_name\u001b[0m\u001b[1;33m,\u001b[0m\u001b[1;33m\u001b[0m\u001b[1;33m\u001b[0m\u001b[0m\n\u001b[0;32m     57\u001b[0m                 \u001b[0mdelimiter\u001b[0m\u001b[1;33m=\u001b[0m\u001b[1;34m','\u001b[0m\u001b[1;33m,\u001b[0m\u001b[1;33m\u001b[0m\u001b[1;33m\u001b[0m\u001b[0m\n",
      "\u001b[1;32mD:\\anaconda3\\lib\\site-packages\\numpy\\lib\\npyio.py\u001b[0m in \u001b[0;36mloadtxt\u001b[1;34m(fname, dtype, comments, delimiter, converters, skiprows, usecols, unpack, ndmin, encoding, max_rows, like)\u001b[0m\n\u001b[0;32m   1144\u001b[0m         \u001b[1;31m# converting the data\u001b[0m\u001b[1;33m\u001b[0m\u001b[1;33m\u001b[0m\u001b[1;33m\u001b[0m\u001b[0m\n\u001b[0;32m   1145\u001b[0m         \u001b[0mX\u001b[0m \u001b[1;33m=\u001b[0m \u001b[1;32mNone\u001b[0m\u001b[1;33m\u001b[0m\u001b[1;33m\u001b[0m\u001b[0m\n\u001b[1;32m-> 1146\u001b[1;33m         \u001b[1;32mfor\u001b[0m \u001b[0mx\u001b[0m \u001b[1;32min\u001b[0m \u001b[0mread_data\u001b[0m\u001b[1;33m(\u001b[0m\u001b[0m_loadtxt_chunksize\u001b[0m\u001b[1;33m)\u001b[0m\u001b[1;33m:\u001b[0m\u001b[1;33m\u001b[0m\u001b[1;33m\u001b[0m\u001b[0m\n\u001b[0m\u001b[0;32m   1147\u001b[0m             \u001b[1;32mif\u001b[0m \u001b[0mX\u001b[0m \u001b[1;32mis\u001b[0m \u001b[1;32mNone\u001b[0m\u001b[1;33m:\u001b[0m\u001b[1;33m\u001b[0m\u001b[1;33m\u001b[0m\u001b[0m\n\u001b[0;32m   1148\u001b[0m                 \u001b[0mX\u001b[0m \u001b[1;33m=\u001b[0m \u001b[0mnp\u001b[0m\u001b[1;33m.\u001b[0m\u001b[0marray\u001b[0m\u001b[1;33m(\u001b[0m\u001b[0mx\u001b[0m\u001b[1;33m,\u001b[0m \u001b[0mdtype\u001b[0m\u001b[1;33m)\u001b[0m\u001b[1;33m\u001b[0m\u001b[1;33m\u001b[0m\u001b[0m\n",
      "\u001b[1;32mD:\\anaconda3\\lib\\site-packages\\numpy\\lib\\npyio.py\u001b[0m in \u001b[0;36mread_data\u001b[1;34m(chunk_size)\u001b[0m\n\u001b[0;32m    995\u001b[0m \u001b[1;33m\u001b[0m\u001b[0m\n\u001b[0;32m    996\u001b[0m             \u001b[1;31m# Convert each value according to its column and store\u001b[0m\u001b[1;33m\u001b[0m\u001b[1;33m\u001b[0m\u001b[1;33m\u001b[0m\u001b[0m\n\u001b[1;32m--> 997\u001b[1;33m             \u001b[0mitems\u001b[0m \u001b[1;33m=\u001b[0m \u001b[1;33m[\u001b[0m\u001b[0mconv\u001b[0m\u001b[1;33m(\u001b[0m\u001b[0mval\u001b[0m\u001b[1;33m)\u001b[0m \u001b[1;32mfor\u001b[0m \u001b[1;33m(\u001b[0m\u001b[0mconv\u001b[0m\u001b[1;33m,\u001b[0m \u001b[0mval\u001b[0m\u001b[1;33m)\u001b[0m \u001b[1;32min\u001b[0m \u001b[0mzip\u001b[0m\u001b[1;33m(\u001b[0m\u001b[0mconverters\u001b[0m\u001b[1;33m,\u001b[0m \u001b[0mvals\u001b[0m\u001b[1;33m)\u001b[0m\u001b[1;33m]\u001b[0m\u001b[1;33m\u001b[0m\u001b[1;33m\u001b[0m\u001b[0m\n\u001b[0m\u001b[0;32m    998\u001b[0m \u001b[1;33m\u001b[0m\u001b[0m\n\u001b[0;32m    999\u001b[0m             \u001b[1;31m# Then pack it according to the dtype's nesting\u001b[0m\u001b[1;33m\u001b[0m\u001b[1;33m\u001b[0m\u001b[1;33m\u001b[0m\u001b[0m\n",
      "\u001b[1;32mD:\\anaconda3\\lib\\site-packages\\numpy\\lib\\npyio.py\u001b[0m in \u001b[0;36m<listcomp>\u001b[1;34m(.0)\u001b[0m\n\u001b[0;32m    995\u001b[0m \u001b[1;33m\u001b[0m\u001b[0m\n\u001b[0;32m    996\u001b[0m             \u001b[1;31m# Convert each value according to its column and store\u001b[0m\u001b[1;33m\u001b[0m\u001b[1;33m\u001b[0m\u001b[1;33m\u001b[0m\u001b[0m\n\u001b[1;32m--> 997\u001b[1;33m             \u001b[0mitems\u001b[0m \u001b[1;33m=\u001b[0m \u001b[1;33m[\u001b[0m\u001b[0mconv\u001b[0m\u001b[1;33m(\u001b[0m\u001b[0mval\u001b[0m\u001b[1;33m)\u001b[0m \u001b[1;32mfor\u001b[0m \u001b[1;33m(\u001b[0m\u001b[0mconv\u001b[0m\u001b[1;33m,\u001b[0m \u001b[0mval\u001b[0m\u001b[1;33m)\u001b[0m \u001b[1;32min\u001b[0m \u001b[0mzip\u001b[0m\u001b[1;33m(\u001b[0m\u001b[0mconverters\u001b[0m\u001b[1;33m,\u001b[0m \u001b[0mvals\u001b[0m\u001b[1;33m)\u001b[0m\u001b[1;33m]\u001b[0m\u001b[1;33m\u001b[0m\u001b[1;33m\u001b[0m\u001b[0m\n\u001b[0m\u001b[0;32m    998\u001b[0m \u001b[1;33m\u001b[0m\u001b[0m\n\u001b[0;32m    999\u001b[0m             \u001b[1;31m# Then pack it according to the dtype's nesting\u001b[0m\u001b[1;33m\u001b[0m\u001b[1;33m\u001b[0m\u001b[1;33m\u001b[0m\u001b[0m\n",
      "\u001b[1;32mD:\\anaconda3\\lib\\site-packages\\numpy\\lib\\npyio.py\u001b[0m in \u001b[0;36mfloatconv\u001b[1;34m(x)\u001b[0m\n\u001b[0;32m    732\u001b[0m         \u001b[1;32mif\u001b[0m \u001b[1;34m'0x'\u001b[0m \u001b[1;32min\u001b[0m \u001b[0mx\u001b[0m\u001b[1;33m:\u001b[0m\u001b[1;33m\u001b[0m\u001b[1;33m\u001b[0m\u001b[0m\n\u001b[0;32m    733\u001b[0m             \u001b[1;32mreturn\u001b[0m \u001b[0mfloat\u001b[0m\u001b[1;33m.\u001b[0m\u001b[0mfromhex\u001b[0m\u001b[1;33m(\u001b[0m\u001b[0mx\u001b[0m\u001b[1;33m)\u001b[0m\u001b[1;33m\u001b[0m\u001b[1;33m\u001b[0m\u001b[0m\n\u001b[1;32m--> 734\u001b[1;33m         \u001b[1;32mreturn\u001b[0m \u001b[0mfloat\u001b[0m\u001b[1;33m(\u001b[0m\u001b[0mx\u001b[0m\u001b[1;33m)\u001b[0m\u001b[1;33m\u001b[0m\u001b[1;33m\u001b[0m\u001b[0m\n\u001b[0m\u001b[0;32m    735\u001b[0m \u001b[1;33m\u001b[0m\u001b[0m\n\u001b[0;32m    736\u001b[0m     \u001b[0mtyp\u001b[0m \u001b[1;33m=\u001b[0m \u001b[0mdtype\u001b[0m\u001b[1;33m.\u001b[0m\u001b[0mtype\u001b[0m\u001b[1;33m\u001b[0m\u001b[1;33m\u001b[0m\u001b[0m\n",
      "\u001b[1;31mValueError\u001b[0m: could not convert string to float: '/home/jovyan/work-ro/module2/data/depth/frame_00001.dat'"
     ]
    }
   ],
   "source": [
    "dataset_handler = DatasetHandler()"
   ]
  },
  {
   "cell_type": "markdown",
   "metadata": {},
   "source": [
    "The dataset handler contains 52 data frames. Each frame contains an RGB image and a depth map taken with a setup on the vehicle and a grayscale version of the RGB image which will be used for computation. Furthermore, camera calibration matrix K is also provided in the dataset handler.\n",
    "\n",
    "Upon creation of the dataset handler object, all the frames will be automatically read and loaded. The frame content can be accessed by using `images`, `images_rgb`, `depth_maps` attributes of the dataset handler object along with the index of the requested frame. See how to access the images (grayscale), rgb images (3-channel color), depth maps and camera calibration matrix in the example below.\n",
    "\n",
    "**Note (Depth Maps)**: Maximum depth distance is 1000. This value of depth shows that the selected pixel is at least 1000m (1km) far from the camera, however the exact distance of this pixel from the camera is unknown. Having this kind of points in further trajectory estimation might affect the trajectory precision."
   ]
  },
  {
   "cell_type": "code",
   "execution_count": null,
   "metadata": {},
   "outputs": [],
   "source": [
    "image = dataset_handler.images[0]\n",
    "\n",
    "plt.figure(figsize=(8, 6), dpi=100)\n",
    "plt.imshow(image, cmap='gray')"
   ]
  },
  {
   "cell_type": "code",
   "execution_count": null,
   "metadata": {},
   "outputs": [],
   "source": [
    "image_rgb = dataset_handler.images_rgb[0]\n",
    "\n",
    "plt.figure(figsize=(8, 6), dpi=100)\n",
    "plt.imshow(image_rgb)"
   ]
  },
  {
   "cell_type": "code",
   "execution_count": null,
   "metadata": {},
   "outputs": [],
   "source": [
    "i = 0\n",
    "depth = dataset_handler.depth_maps[i]\n",
    "print(type(depth))\n",
    "plt.figure(figsize=(8, 6), dpi=100)\n",
    "plt.imshow(depth, cmap='jet')"
   ]
  },
  {
   "cell_type": "code",
   "execution_count": null,
   "metadata": {},
   "outputs": [],
   "source": [
    "print(\"Depth map shape: {0}\".format(depth.shape))\n",
    "\n",
    "v, u = depth.shape\n",
    "depth_val = depth[v-1, u-1]\n",
    "print(\"Depth value of the very bottom-right pixel of depth map {0} is {1:0.3f}\".format(i, depth_val))"
   ]
  },
  {
   "cell_type": "code",
   "execution_count": null,
   "metadata": {},
   "outputs": [],
   "source": [
    "dataset_handler.k"
   ]
  },
  {
   "cell_type": "markdown",
   "metadata": {},
   "source": [
    "In order to access an arbitrary frame use image index, as shown in the examples below. Make sure the indexes are within the number of frames in the dataset. The number of frames in the dataset can be accessed with num_frames attribute."
   ]
  },
  {
   "cell_type": "code",
   "execution_count": null,
   "metadata": {},
   "outputs": [],
   "source": [
    "# Number of frames in the dataset\n",
    "print(dataset_handler.num_frames)"
   ]
  },
  {
   "cell_type": "code",
   "execution_count": null,
   "metadata": {},
   "outputs": [],
   "source": [
    "i = 30\n",
    "image = dataset_handler.images[i]\n",
    "\n",
    "plt.figure(figsize=(8, 6), dpi=100)\n",
    "plt.imshow(image, cmap='gray')"
   ]
  },
  {
   "cell_type": "markdown",
   "metadata": {},
   "source": [
    "## 1 - Feature Extraction\n",
    "\n",
    "### 1.1 - Extracting Features from an Image\n",
    "\n",
    "**Task**: Implement feature extraction from a single image. You can use any feature descriptor of your choice covered in the lectures, ORB for example. \n",
    "\n",
    "\n",
    "Note 1: Make sure you understand the structure of the keypoint descriptor object, this will be very useful for your further tasks. You might find [OpenCV: Keypoint Class Description](https://docs.opencv.org/3.4.3/d2/d29/classcv_1_1KeyPoint.html) handy.\n",
    "\n",
    "Note 2: Make sure you understand the image coordinate system, namely the origin location and axis directions.\n",
    "\n",
    "Note 3: We provide you with a function to visualise the features detected. Run the last 2 cells in section 1.1 to view.\n",
    "\n",
    "***Optional***: Try to extract features with different descriptors such as SIFT, ORB, SURF and BRIEF. You can also try using detectors such as Harris corners or FAST and pairing them with a descriptor. Lastly, try changing parameters of the algorithms. Do you see the difference in various approaches?\n",
    "You might find this link useful:  [OpenCV:Feature Detection and Description](https://docs.opencv.org/3.4.3/db/d27/tutorial_py_table_of_contents_feature2d.html). "
   ]
  },
  {
   "cell_type": "code",
   "execution_count": null,
   "metadata": {},
   "outputs": [],
   "source": [
    "def extract_features(image, descriptor):\n",
    "    \"\"\"\n",
    "    Find keypoints and descriptors for the image\n",
    "\n",
    "    Arguments:\n",
    "    image -- a grayscale image\n",
    "    descriptor -- string\n",
    "\n",
    "    Returns:\n",
    "    kp -- list of the extracted keypoints (features) in an image\n",
    "    des -- list of the keypoint descriptors in an image\n",
    "    \"\"\"\n",
    "    ### START CODE HERE ###\n",
    "    \n",
    "    # SIFT (Scale-Invariant Feature Transform) #\n",
    "    if descriptor == \"SIFT\":\n",
    "        sift = cv.xfeatures2d.SIFT_create()\n",
    "        kp, des = sift.detectAndCompute(image, None)\n",
    "    \n",
    "    # SURF (Speeded-Up Robust Features) #\n",
    "    if descriptor == 'SURF':\n",
    "        surf = cv2.xfeatures2d.SURF_create()\n",
    "        kp, des = surf.detectAndCompute(image, None)\n",
    "\n",
    "    # BRIEF (Binanry Robust Independent Elementary Features)\n",
    "    if descriptor == 'BRIEF':\n",
    "        start = cv2.xfeatures2d.StarDetector_create()\n",
    "        brief = cv2.xfeatures2d.BriefDescriptorExtractor_create()\n",
    "        kp = start.detect(image, None)\n",
    "        kp, des = brief.compute(image, kp)\n",
    "    \n",
    "    # ORB (Oriented FAST and Rotated BRIEF)\n",
    "    if descriptor == 'ORB':\n",
    "        orb = cv2.ORB_create()\n",
    "        kp = orb.detect(image, None)\n",
    "        kp, des = orb.compute(image, kp)\n",
    "    \n",
    "    ### END CODE HERE ###\n",
    "    \n",
    "    return kp, des"
   ]
  },
  {
   "cell_type": "code",
   "execution_count": null,
   "metadata": {},
   "outputs": [],
   "source": [
    "def visualize_features(image, kp):\n",
    "    \"\"\"\n",
    "    Visualize extracted features in the image\n",
    "\n",
    "    Arguments:\n",
    "    image -- a grayscale image\n",
    "    kp -- list of the extracted keypoints\n",
    "\n",
    "    Returns:\n",
    "    \"\"\"\n",
    "    display = cv2.drawKeypoints(image, kp, None)\n",
    "    plt.figure(figsize=(10, 8), dpi=100)\n",
    "    plt.imshow(display)"
   ]
  },
  {
   "cell_type": "code",
   "execution_count": null,
   "metadata": {},
   "outputs": [],
   "source": [
    "i = 0\n",
    "image = dataset_handler.images[i]\n",
    "kp, des = extract_features(image, 'SURF')\n",
    "print(\"Number of features detected in frame {0}: {1}\\n\".format(i, len(kp)))\n",
    "\n",
    "print(\"Coordinates of the first keypoint in frame {0}: {1}\".format(i, str(kp[0].pt)))"
   ]
  },
  {
   "cell_type": "code",
   "execution_count": null,
   "metadata": {},
   "outputs": [],
   "source": [
    "# Optional: visualizing and experimenting with various feature descriptors\n",
    "i = 0\n",
    "image = dataset_handler.images_rgb[i]\n",
    "\n",
    "visualize_features(image, kp)"
   ]
  },
  {
   "cell_type": "markdown",
   "metadata": {},
   "source": [
    "### 1.2 - Extracting Features from Each Image in the Dataset\n",
    "\n",
    "**Task**: Implement feature extraction for each image in the dataset with the function you wrote in the above section. \n",
    "\n",
    "**Note**: If you do not remember how to pass functions as arguments, make sure to brush up on this topic. This [\n",
    "Passing Functions as Arguments](https://www.coursera.org/lecture/program-code/passing-functions-as-arguments-hnmqD) might be helpful."
   ]
  },
  {
   "cell_type": "code",
   "execution_count": null,
   "metadata": {},
   "outputs": [],
   "source": [
    "def extract_features_dataset(images, extract_features_function):\n",
    "    \"\"\"\n",
    "    Find keypoints and descriptors for each image in the dataset\n",
    "\n",
    "    Arguments:\n",
    "    images -- a list of grayscale images\n",
    "    extract_features_function -- a function which finds features (keypoints and descriptors) for an image\n",
    "\n",
    "    Returns:\n",
    "    kp_list -- a list of keypoints for each image in images\n",
    "    des_list -- a list of descriptors for each image in images\n",
    "    \n",
    "    \"\"\"\n",
    "    kp_list = []\n",
    "    des_list = []\n",
    "    \n",
    "    ### START CODE HERE ###\n",
    "    for image in images:\n",
    "        kp, des = extract_features_function(image, 'SURF')\n",
    "        kp_list.append(kp)\n",
    "        des_list.append(des)\n",
    "    ### END CODE HERE ###\n",
    "    \n",
    "    return kp_list, des_list"
   ]
  },
  {
   "cell_type": "code",
   "execution_count": null,
   "metadata": {},
   "outputs": [],
   "source": [
    "images = dataset_handler.images\n",
    "kp_list, des_list = extract_features_dataset(images, extract_features)\n",
    "\n",
    "i = 0\n",
    "print(\"Number of features detected in frame {0}: {1}\".format(i, len(kp_list[i])))\n",
    "print(\"Coordinates of the first keypoint in frame {0}: {1}\\n\".format(i, str(kp_list[i][0].pt)))\n",
    "\n",
    "# Remember that the length of the returned by dataset_handler lists should be the same as the length of the image array\n",
    "print(\"Length of images array: {0}\".format(len(images)))"
   ]
  },
  {
   "cell_type": "markdown",
   "metadata": {},
   "source": [
    "## 2 - Feature Matching\n",
    "\n",
    "Next step after extracting the features in each image is matching the features from the subsequent frames. This is what is needed to be done in this section.\n",
    "\n",
    "### 2.1 - Matching Features from a Pair of Subsequent Frames\n",
    "\n",
    "**Task**: Implement feature matching for a pair of images. You can use any feature matching algorithm of your choice covered in the lectures, Brute Force Matching or FLANN based Matching for example.\n",
    "\n",
    "***Optional 1***: Implement match filtering by thresholding the distance between the best matches. This might be useful for improving your overall trajectory estimation results. Recall that you have an option of specifying the number best matches to be returned by the matcher.\n",
    "\n",
    "We have provided a visualization of the found matches. Do all the matches look legitimate to you? Do you think match filtering can improve the situation?"
   ]
  },
  {
   "cell_type": "code",
   "execution_count": null,
   "metadata": {},
   "outputs": [],
   "source": [
    "def match_features(des1, des2, method):\n",
    "    \"\"\"\n",
    "    Match features from two images\n",
    "\n",
    "    Arguments:\n",
    "    des1 -- list of the keypoint descriptors in the first image\n",
    "    des2 -- list of the keypoint descriptors in the second image\n",
    "\n",
    "    Returns:\n",
    "    match -- list of matched features from two images. Each match[i] is k or less matches for the same query descriptor\n",
    "    \"\"\"\n",
    "    ### START CODE HERE ###\n",
    "    \n",
    "    # --- Brute-Force Matching with ORB Descriptors --- #\n",
    "    if method in ['ORB', 'BRIEF']:\n",
    "        bf = cv2.BFMatcher(cv.NORM_HAMMING, crossCheck=True)\n",
    "        match = bf.match(des1, des2)\n",
    "        match = sorted(match, key=lambda x:x.distance)\n",
    "    \n",
    "    # --- FLANN based Macther --- #\n",
    "    if method in ['SURF', 'SIFT']:\n",
    "        # FLANN Parameters\n",
    "        FLANN_INDEX_KDTREE = 1\n",
    "        index_params = dict(algorithm=FLANN_INDEX_KDTREE, trees=5)\n",
    "        search_params = dict(check=50) # or pass empty dictionary\n",
    "\n",
    "        # initialize and match\n",
    "        flann = cv2.FlannBasedMatcher(index_params, search_params)\n",
    "        match = flann.knnMatch(des1, des2, k=2)\n",
    "    \n",
    "    ### END CODE HERE ###\n",
    "\n",
    "    return match"
   ]
  },
  {
   "cell_type": "code",
   "execution_count": null,
   "metadata": {},
   "outputs": [],
   "source": [
    "i = 0 \n",
    "des1 = des_list[i]\n",
    "des2 = des_list[i+1]\n",
    "\n",
    "match = match_features(des1, des2, 'SURF')\n",
    "print(\"Number of features matched in frames {0} and {1}: {2}\".format(i, i+1, len(match)))\n",
    "\n",
    "# Remember that a matcher finds the best matches for EACH descriptor from a query set"
   ]
  },
  {
   "cell_type": "code",
   "execution_count": null,
   "metadata": {},
   "outputs": [],
   "source": [
    "# Optional\n",
    "def filter_matches_distance(match, dist_threshold):\n",
    "    \"\"\"\n",
    "    Filter matched features from two images by distance between the best matches\n",
    "\n",
    "    Arguments:\n",
    "    match -- list of matched features from two images\n",
    "    dist_threshold -- maximum allowed relative distance between the best matches, (0.0, 1.0) \n",
    "\n",
    "    Returns:\n",
    "    filtered_match -- list of good matches, satisfying the distance threshold\n",
    "    \"\"\"\n",
    "    filtered_match = []\n",
    "    \n",
    "    ### START CODE HERE ###\n",
    "    for i, (m, n) in enumerate(match):\n",
    "        if m.distance < dist_threshold*n.distance:\n",
    "            filtered_match.append(m)\n",
    "    ### END CODE HERE ###\n",
    "    return filtered_match"
   ]
  },
  {
   "cell_type": "code",
   "execution_count": null,
   "metadata": {},
   "outputs": [],
   "source": [
    "# Optional\n",
    "i = 0 \n",
    "des1 = des_list[i]\n",
    "des2 = des_list[i+1]\n",
    "match = match_features(des1, des2, 'SURF')\n",
    "\n",
    "dist_threshold = 0.6\n",
    "filtered_match = filter_matches_distance(match, dist_threshold)\n",
    "\n",
    "print(\"Number of features matched in frames {0} and {1} after filtering by distance: {2}\".format(i, i+1, len(filtered_match)))"
   ]
  },
  {
   "cell_type": "code",
   "execution_count": null,
   "metadata": {},
   "outputs": [],
   "source": [
    "def visualize_matches(image1, kp1, image2, kp2, match):\n",
    "    \"\"\"\n",
    "    Visualize corresponding matches in two images\n",
    "\n",
    "    Arguments:\n",
    "    image1 -- the first image in a matched image pair\n",
    "    kp1 -- list of the keypoints in the first image\n",
    "    image2 -- the second image in a matched image pair\n",
    "    kp2 -- list of the keypoints in the second image\n",
    "    match -- list of matched features from the pair of images\n",
    "\n",
    "    Returns:\n",
    "    image_matches -- an image showing the corresponding matches on both image1 and image2 or None if you don't use this function\n",
    "    \"\"\"\n",
    "#     image_matches = cv2.drawMatchesKnn(image1,kp1,image2,kp2,match,None,flags=2)\n",
    "    image_matches = cv2.drawMatches(image1,kp1,image2,kp2,match,None,flags=2)\n",
    "    plt.figure(figsize=(16, 6), dpi=100)\n",
    "    plt.imshow(image_matches)"
   ]
  },
  {
   "cell_type": "code",
   "execution_count": null,
   "metadata": {},
   "outputs": [],
   "source": [
    "# Visualize n first matches, set n to None to view all matches\n",
    "# set filtering to True if using match filtering, otherwise set to False\n",
    "n = 20\n",
    "filtering = True\n",
    "\n",
    "i = 0 \n",
    "image1 = dataset_handler.images[i]\n",
    "image2 = dataset_handler.images[i+1]\n",
    "\n",
    "kp1 = kp_list[i]\n",
    "kp2 = kp_list[i+1]\n",
    "\n",
    "des1 = des_list[i]\n",
    "des2 = des_list[i+1]\n",
    "\n",
    "match = match_features(des1, des2, 'SURF')\n",
    "if filtering:\n",
    "    dist_threshold = 0.6\n",
    "    match = filter_matches_distance(match, dist_threshold)\n",
    "\n",
    "image_matches = visualize_matches(image1, kp1, image2, kp2, match[:n])"
   ]
  },
  {
   "cell_type": "markdown",
   "metadata": {},
   "source": [
    "### 2.2 - Matching Features in Each Subsequent Image Pair in the Dataset\n",
    "\n",
    "**Task**: Implement feature matching for each subsequent image pair in the dataset with the function you wrote in the above section.\n",
    "\n",
    "***Optional***: Implement match filtering by thresholding the distance for each subsequent image pair in the dataset with the function you wrote in the above section."
   ]
  },
  {
   "cell_type": "code",
   "execution_count": null,
   "metadata": {},
   "outputs": [],
   "source": [
    "def match_features_dataset(des_list, match_features):\n",
    "    \"\"\"\n",
    "    Match features for each subsequent image pair in the dataset\n",
    "\n",
    "    Arguments:\n",
    "    des_list -- a list of descriptors for each image in the dataset\n",
    "    match_features -- a function which maches features between a pair of images\n",
    "\n",
    "    Returns:\n",
    "    matches -- list of matches for each subsequent image pair in the dataset. \n",
    "               Each matches[i] is a list of matched features from images i and i + 1\n",
    "               \n",
    "    \"\"\"\n",
    "    matches = []\n",
    "    \n",
    "    ### START CODE HERE ###\n",
    "    for i in range(len(des_list)-1):\n",
    "        des1 = des_list[i]\n",
    "        des2 = des_list[i+1]\n",
    "        match = match_features(des1, des2, 'SURF')\n",
    "        matches.append(match)\n",
    "    ### END CODE HERE ###\n",
    "    \n",
    "    return matches"
   ]
  },
  {
   "cell_type": "code",
   "execution_count": null,
   "metadata": {},
   "outputs": [],
   "source": [
    "matches = match_features_dataset(des_list, match_features)\n",
    "\n",
    "i = 0\n",
    "print(\"Number of features matched in frames {0} and {1}: {2}\".format(i, i+1, len(matches[i])))"
   ]
  },
  {
   "cell_type": "code",
   "execution_count": null,
   "metadata": {},
   "outputs": [],
   "source": [
    "# Optional\n",
    "def filter_matches_dataset(filter_matches_distance, matches, dist_threshold):\n",
    "    \"\"\"\n",
    "    Filter matched features by distance for each subsequent image pair in the dataset\n",
    "\n",
    "    Arguments:\n",
    "    filter_matches_distance -- a function which filters matched features from two images by distance between the best matches\n",
    "    matches -- list of matches for each subsequent image pair in the dataset. \n",
    "               Each matches[i] is a list of matched features from images i and i + 1\n",
    "    dist_threshold -- maximum allowed relative distance between the best matches, (0.0, 1.0) \n",
    "\n",
    "    Returns:\n",
    "    filtered_matches -- list of good matches for each subsequent image pair in the dataset. \n",
    "                        Each matches[i] is a list of good matches, satisfying the distance threshold\n",
    "               \n",
    "    \"\"\"\n",
    "    filtered_matches = []\n",
    "    \n",
    "    ### START CODE HERE ###\n",
    "    for match in matches:\n",
    "        filtered_match = filter_matches_distance(match, dist_threshold)\n",
    "        filtered_matches.append(filtered_match)\n",
    "    ### END CODE HERE ###\n",
    "    return filtered_matches"
   ]
  },
  {
   "cell_type": "code",
   "execution_count": null,
   "metadata": {},
   "outputs": [],
   "source": [
    "# Optional\n",
    "dist_threshold = 0.6\n",
    "\n",
    "filtered_matches = filter_matches_dataset(filter_matches_distance, matches, dist_threshold)\n",
    "\n",
    "if len(filtered_matches) > 0:\n",
    "    \n",
    "    # Make sure that this variable is set to True if you want to use filtered matches further in your assignment\n",
    "    is_main_filtered_m = True\n",
    "    if is_main_filtered_m: \n",
    "        matches = filtered_matches\n",
    "\n",
    "    i = 0\n",
    "    print(\"Number of filtered matches in frames {0} and {1}: {2}\".format(i, i+1, len(filtered_matches[i])))"
   ]
  },
  {
   "cell_type": "markdown",
   "metadata": {},
   "source": [
    "## 3 - Trajectory Estimation\n",
    "\n",
    "At this point you have everything to perform visual odometry for the autonomous vehicle. In this section you will incrementally estimate the pose of the vehicle by examining the changes that motion induces on the images of its onboard camera.\n",
    "\n",
    "### 3.1 - Estimating Camera Motion between a Pair of Images\n",
    "\n",
    "**Task**: Implement camera motion estimation from a pair of images. You can use the motion estimation algorithm covered in the lecture materials, namely Perspective-n-Point (PnP), as well as Essential Matrix Decomposition.\n",
    "\n",
    "- If you decide to use PnP, you will need depth maps of frame and they are provided with the dataset handler. Check out Section 0 of this assignment to recall how to access them if you need. As this method has been covered in the course, review the lecture materials if need be.\n",
    "- If you decide to use Essential Matrix Decomposition, more information about this method can be found in [Wikipedia: Determining R and t from E](https://en.wikipedia.org/wiki/Essential_matrix).\n",
    "\n",
    "More information on both approaches implementation can be found in [OpenCV: Camera Calibration and 3D Reconstruction](https://docs.opencv.org/3.4.3/d9/d0c/group__calib3d.html). Specifically, you might be interested in _Detailed Description_ section of [OpenCV: Camera Calibration and 3D Reconstruction](https://docs.opencv.org/3.4.3/d9/d0c/group__calib3d.html) as it explains the connection between the 3D world coordinate system and the 2D image coordinate system.\n",
    "\n",
    "\n",
    "***Optional***: Implement camera motion estimation with PnP, PnP with RANSAC and Essential Matrix Decomposition. Check out how filtering matches by distance changes estimated camera movement. Do you see the difference in various approaches?"
   ]
  },
  {
   "cell_type": "code",
   "execution_count": null,
   "metadata": {},
   "outputs": [],
   "source": [
    "def estimate_motion(match, kp1, kp2, k, depth1=None):\n",
    "    \"\"\"\n",
    "    Estimate camera motion from a pair of subsequent image frames\n",
    "\n",
    "    Arguments:\n",
    "    match -- list of matched features from the pair of images\n",
    "    kp1 -- list of the keypoints in the first image\n",
    "    kp2 -- list of the keypoints in the second image\n",
    "    k -- camera calibration matrix \n",
    "    \n",
    "    Optional arguments:\n",
    "    depth1 -- a depth map of the first frame. This argument is not needed if you use Essential Matrix Decomposition\n",
    "\n",
    "    Returns:\n",
    "    rmat -- recovered 3x3 rotation numpy matrix\n",
    "    tvec -- recovered 3x1 translation numpy vector\n",
    "    image1_points -- a list of selected match coordinates in the first image. image1_points[i] = [u, v], where u and v are \n",
    "                     coordinates of the i-th match in the image coordinate system\n",
    "    image2_points -- a list of selected match coordinates in the second image. image1_points[i] = [u, v], where u and v are \n",
    "                     coordinates of the i-th match in the image coordinate system\n",
    "               \n",
    "    \"\"\"\n",
    "    rmat = np.eye(3)\n",
    "    tvec = np.zeros((3, 1))\n",
    "    image1_points = []\n",
    "    image2_points = []\n",
    "    \n",
    "    ### START CODE HERE ###\n",
    "    for m in match:\n",
    "        iQuery = m.queryIdx\n",
    "        iTrain = m.trainIdx\n",
    "        \n",
    "        # get first img 3D data (with depth)\n",
    "        p1x, p1y = kp1[iQuery].pt\n",
    "        image1_points.append([p1x, p1y])\n",
    "        \n",
    "        # get second img 2D data\n",
    "        p2x, p2y = kp2[iTrain].pt\n",
    "        image2_points.append([p2x, p2y])\n",
    "        \n",
    "    # Essential Matrix\n",
    "    img1_pts = np.array(image1_points)\n",
    "    img2_pts = np.array(image2_points)\n",
    "    E, mask = cv2.findEssentialMat(img1_pts, img2_pts, k, method=cv2.RANSAC)\n",
    "    retval, rmat, tvec, mask = cv2.recoverPose(E, img1_pts, img2_pts, k)\n",
    "    \n",
    "    ### END CODE HERE ###\n",
    "    \n",
    "    return rmat, tvec, image1_points, image2_points"
   ]
  },
  {
   "cell_type": "code",
   "execution_count": null,
   "metadata": {
    "scrolled": true
   },
   "outputs": [],
   "source": [
    "i = 0\n",
    "match = matches[i]\n",
    "kp1 = kp_list[i]\n",
    "kp2 = kp_list[i+1]\n",
    "k = dataset_handler.k\n",
    "depth = dataset_handler.depth_maps[i] # numpy.ndarray 2D\n",
    "\n",
    "rmat, tvec, image1_points, image2_points = estimate_motion(match, kp1, kp2, k, depth1=depth)\n",
    "\n",
    "print(\"Estimated rotation:\\n {0}\".format(rmat))\n",
    "print(\"Estimated translation:\\n {0}\".format(tvec))"
   ]
  },
  {
   "cell_type": "markdown",
   "metadata": {},
   "source": [
    "**Expected Output Format**:\n",
    "\n",
    "Make sure that your estimated rotation matrix and translation vector are in the same format as the given initial values\n",
    "\n",
    "```\n",
    "rmat = np.eye(3)\n",
    "tvec = np.zeros((3, 1))\n",
    "\n",
    "print(\"Initial rotation:\\n {0}\".format(rmat))\n",
    "print(\"Initial translation:\\n {0}\".format(tvec))\n",
    "```\n",
    "\n",
    "\n",
    "```\n",
    "Initial rotation:\n",
    " [[1. 0. 0.]\n",
    " [0. 1. 0.]\n",
    " [0. 0. 1.]]\n",
    "Initial translation:\n",
    " [[0.]\n",
    " [0.]\n",
    " [0.]]\n",
    "```"
   ]
  },
  {
   "cell_type": "markdown",
   "metadata": {},
   "source": [
    "**Camera Movement Visualization**:\n",
    "You can use `visualize_camera_movement` that is provided to you. This function visualizes final image matches from an image pair connected with an arrow corresponding to direction of camera movement (when `is_show_img_after_mov = False`). The function description:\n",
    "```\n",
    "Arguments:\n",
    "image1 -- the first image in a matched image pair (RGB or grayscale)\n",
    "image1_points -- a list of selected match coordinates in the first image. image1_points[i] = [x, y], where x and y are \n",
    "                 coordinates of the i-th match in the image coordinate system\n",
    "image2 -- the second image in a matched image pair (RGB or grayscale)\n",
    "image2_points -- a list of selected match coordinates in the second image. image1_points[i] = [x, y], where x and y are \n",
    "                 coordinates of the i-th match in the image coordinate system\n",
    "is_show_img_after_mov -- a boolean variable, controling the output (read image_move description for more info) \n",
    "\n",
    "Returns:\n",
    "image_move -- an image with the visualization. When is_show_img_after_mov=False then the image points from both images are visualized on the first image. Otherwise, the image points from the second image only are visualized on the second image\n",
    "```"
   ]
  },
  {
   "cell_type": "code",
   "execution_count": null,
   "metadata": {},
   "outputs": [],
   "source": [
    "i=30\n",
    "image1  = dataset_handler.images_rgb[i]\n",
    "image2 = dataset_handler.images_rgb[i + 1]\n",
    "\n",
    "image_move = visualize_camera_movement(image1, image1_points, image2, image2_points)\n",
    "plt.figure(figsize=(16, 12), dpi=100)\n",
    "plt.imshow(image_move)"
   ]
  },
  {
   "cell_type": "code",
   "execution_count": null,
   "metadata": {},
   "outputs": [],
   "source": [
    "image_move = visualize_camera_movement(image1, image1_points, image2, image2_points, is_show_img_after_move=True)\n",
    "plt.figure(figsize=(16, 12), dpi=100)\n",
    "plt.imshow(image_move)\n",
    "# These visualizations might be helpful for understanding the quality of image points selected for the camera motion estimation"
   ]
  },
  {
   "cell_type": "markdown",
   "metadata": {},
   "source": [
    "### 3.2 - Camera Trajectory Estimation\n",
    "\n",
    "**Task**: Implement camera trajectory estimation with visual odometry. More specifically, implement camera motion estimation for each subsequent image pair in the dataset with the function you wrote in the above section.\n",
    "\n",
    "***Note***: Do not forget that the image pairs are not independent one to each other. i-th and (i + 1)-th image pairs have an image in common"
   ]
  },
  {
   "cell_type": "code",
   "execution_count": null,
   "metadata": {},
   "outputs": [],
   "source": [
    "def estimate_trajectory(estimate_motion, matches, kp_list, k, depth_maps=[]):\n",
    "    \"\"\"\n",
    "    Estimate complete camera trajectory from subsequent image pairs\n",
    "\n",
    "    Arguments:\n",
    "    estimate_motion -- a function which estimates camera motion from a pair of subsequent image frames\n",
    "    matches -- list of matches for each subsequent image pair in the dataset. \n",
    "               Each matches[i] is a list of matched features from images i and i + 1\n",
    "    des_list -- a list of keypoints for each image in the dataset\n",
    "    k -- camera calibration matrix \n",
    "    \n",
    "    Optional arguments:\n",
    "    depth_maps -- a list of depth maps for each frame. This argument is not needed if you use Essential Matrix Decomposition\n",
    "\n",
    "    Returns:\n",
    "    trajectory -- a 3xlen numpy array of the camera locations, where len is the lenght of the list of images and   \n",
    "                  trajectory[:, i] is a 3x1 numpy vector, such as:\n",
    "                  \n",
    "                  trajectory[:, i][0] - is X coordinate of the i-th location\n",
    "                  trajectory[:, i][1] - is Y coordinate of the i-th location\n",
    "                  trajectory[:, i][2] - is Z coordinate of the i-th location\n",
    "                  \n",
    "                  * Consider that the origin of your trajectory cordinate system is located at the camera position \n",
    "                  when the first image (the one with index 0) was taken. The first camera location (index = 0) is geven \n",
    "                  at the initialization of this function\n",
    "\n",
    "    \"\"\"\n",
    "    trajectory = np.zeros((3, 1))\n",
    "    \n",
    "    ### START CODE HERE ###\n",
    "    rotation = np.eye(3)\n",
    "    bottom_arr = np.array([0., 0., 0., 1.])\n",
    "    traj = np.hstack((rotation, trajectory))\n",
    "    traj = np.vstack((traj, bottom_arr))\n",
    "    \n",
    "    for i, match in enumerate(matches):\n",
    "        kp1 = kp_list[i]\n",
    "        kp2 = kp_list[i+1]\n",
    "        depth = depth_maps[i]\n",
    "        rmat, tvec, image1_points, image2_points = estimate_motion(match, kp1, kp2, k, depth)\n",
    "        \n",
    "        # translation matrix\n",
    "        rt_mat = np.hstack((rmat, tvec))\n",
    "        rt_mat = np.vstack((rt_mat, bottom_arr))\n",
    "        inv_rt = np.linalg.inv(rt_mat)\n",
    "        \n",
    "        # new trajectory = previous trajectory * inverse(translation matrix)\n",
    "        traj = np.dot(traj, inv_rt)\n",
    "        trajectory = np.concatenate((trajectory, traj[:3, 3].reshape(3,1)), axis=1)\n",
    "    ### END CODE HERE ###\n",
    "    \n",
    "    return trajectory"
   ]
  },
  {
   "cell_type": "code",
   "execution_count": null,
   "metadata": {},
   "outputs": [],
   "source": [
    "depth_maps = dataset_handler.depth_maps\n",
    "trajectory = estimate_trajectory(estimate_motion, matches, kp_list, k, depth_maps=depth_maps)\n",
    "\n",
    "i = 1\n",
    "print(\"Camera location in point {0} is: \\n {1}\\n\".format(i, trajectory[:, [i]]))\n",
    "\n",
    "# Remember that the length of the returned by trajectory should be the same as the length of the image array\n",
    "print(\"Length of trajectory: {0}\".format(trajectory.shape[1]))"
   ]
  },
  {
   "cell_type": "markdown",
   "metadata": {},
   "source": [
    "**Expected Output**:\n",
    "\n",
    "```\n",
    "Camera location in point i is: \n",
    " [[locXi]\n",
    " [locYi]\n",
    " [locZi]]```\n",
    " \n",
    " In this output: locXi, locYi, locZi are the coordinates of the corresponding i-th camera location"
   ]
  },
  {
   "cell_type": "markdown",
   "metadata": {},
   "source": [
    "## 4 - Submission:\n",
    "\n",
    "Evaluation of this assignment is based on the estimated trajectory from the output of the cell below.\n",
    "Please run the cell bellow, then copy its output to the provided yaml file for submission on the programming assignment page.\n",
    "\n",
    "**Expected Submission Format**:\n",
    "\n",
    "```\n",
    "Trajectory X:\n",
    " [[  0.          locX1        locX2        ...   ]]\n",
    "Trajectory Y:\n",
    " [[  0.          locY1        locY2        ...   ]]\n",
    "Trajectory Z:\n",
    " [[  0.          locZ1        locZ2        ...   ]]\n",
    "```\n",
    " \n",
    " In this output: locX1, locY1, locZ1; locX2, locY2, locZ2; ... are the coordinates of the corresponding 1st, 2nd and etc. camera locations"
   ]
  },
  {
   "cell_type": "code",
   "execution_count": null,
   "metadata": {},
   "outputs": [],
   "source": [
    "# Note: Make sure to uncomment the below line if you modified the original data in any ways\n",
    "# dataset_handler = DatasetHandler()\n",
    "\n",
    "\n",
    "# Part 1. Features Extraction\n",
    "images = dataset_handler.images\n",
    "kp_list, des_list = extract_features_dataset(images, extract_features)\n",
    "\n",
    "\n",
    "# Part II. Feature Matching\n",
    "matches = match_features_dataset(des_list, match_features)\n",
    "\n",
    "# Set to True if you want to use filtered matches or False otherwise\n",
    "is_main_filtered_m = True\n",
    "if is_main_filtered_m:\n",
    "    dist_threshold = 0.75\n",
    "    filtered_matches = filter_matches_dataset(filter_matches_distance, matches, dist_threshold)\n",
    "    matches = filtered_matches\n",
    "\n",
    "    \n",
    "# Part III. Trajectory Estimation\n",
    "depth_maps = dataset_handler.depth_maps\n",
    "trajectory = estimate_trajectory(estimate_motion, matches, kp_list, k, depth_maps=depth_maps)\n",
    "\n",
    "\n",
    "#!!! Make sure you don't modify the output in any way\n",
    "# Print Submission Info\n",
    "print(\"Trajectory X:\\n {0}\".format(trajectory[0,:].reshape((1,-1))))\n",
    "print(\"Trajectory Y:\\n {0}\".format(trajectory[1,:].reshape((1,-1))))\n",
    "print(\"Trajectory Z:\\n {0}\".format(trajectory[2,:].reshape((1,-1))))"
   ]
  },
  {
   "cell_type": "markdown",
   "metadata": {},
   "source": [
    "### Visualize your Results\n",
    "\n",
    "**Important**:\n",
    "\n",
    "1) Make sure your results visualization is appealing before submitting your results. You might want to download this project dataset and check whether the trajectory that you have estimated is consistent to the one that you see from the dataset frames. \n",
    "\n",
    "2) Assure that your trajectory axis directions follow the ones in _Detailed Description_ section of [OpenCV: Camera Calibration and 3D Reconstruction](https://docs.opencv.org/3.4.3/d9/d0c/group__calib3d.html)."
   ]
  },
  {
   "cell_type": "code",
   "execution_count": null,
   "metadata": {
    "scrolled": true
   },
   "outputs": [],
   "source": [
    "visualize_trajectory(trajectory)"
   ]
  },
  {
   "cell_type": "markdown",
   "metadata": {},
   "source": [
    "Congrats on finishing this assignment! "
   ]
  }
 ],
 "metadata": {
  "kernelspec": {
   "display_name": "Python 3",
   "language": "python",
   "name": "python3"
  },
  "language_info": {
   "codemirror_mode": {
    "name": "ipython",
    "version": 3
   },
   "file_extension": ".py",
   "mimetype": "text/x-python",
   "name": "python",
   "nbconvert_exporter": "python",
   "pygments_lexer": "ipython3",
   "version": "3.8.8"
  }
 },
 "nbformat": 4,
 "nbformat_minor": 4
}
