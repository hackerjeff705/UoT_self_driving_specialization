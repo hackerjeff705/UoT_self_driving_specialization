{
 "cells": [
  {
   "cell_type": "code",
   "execution_count": 1,
   "metadata": {},
   "outputs": [],
   "source": [
    "import pickle\n",
    "import numpy as np\n",
    "import matplotlib.pyplot as plt\n",
    "from mpl_toolkits.mplot3d import Axes3D\n",
    "from rotations import angle_normalize, rpy_jacobian_axis_angle, skew_symmetric, Quaternion"
   ]
  },
  {
   "cell_type": "code",
   "execution_count": 2078,
   "metadata": {},
   "outputs": [],
   "source": [
    "# Each element of the data dictionary is stored as an item from the data dictionary, which we\n",
    "# will store in local variables, described by the following:\n",
    "#   gt: Data object containing ground truth. with the following fields:\n",
    "#     a: Acceleration of the vehicle, in the inertial frame\n",
    "#     v: Velocity of the vehicle, in the inertial frame\n",
    "#     p: Position of the vehicle, in the inertial frame\n",
    "#     alpha: Rotational acceleration of the vehicle, in the inertial frame\n",
    "#     w: Rotational velocity of the vehicle, in the inertial frame\n",
    "#     r: Rotational position of the vehicle, in Euler (XYZ) angles in the inertial frame\n",
    "#     _t: Timestamp in ms.\n",
    "#   imu_f: StampedData object with the imu specific force data (given in vehicle frame).\n",
    "#     data: The actual data\n",
    "#     t: Timestamps in ms.\n",
    "#   imu_w: StampedData object with the imu rotational velocity (given in the vehicle frame).\n",
    "#     data: The actual data\n",
    "#     t: Timestamps in ms.\n",
    "#   gnss: StampedData object with the GNSS data.\n",
    "#     data: The actual data\n",
    "#     t: Timestamps in ms.\n",
    "#   lidar: StampedData object with the LIDAR data (positions only).\n",
    "#     data: The actual data\n",
    "#     t: Timestamps in ms."
   ]
  },
  {
   "cell_type": "code",
   "execution_count": 2,
   "metadata": {},
   "outputs": [],
   "source": [
    "plt.rcParams['figure.dpi'] = 70"
   ]
  },
  {
   "cell_type": "code",
   "execution_count": 2080,
   "metadata": {},
   "outputs": [],
   "source": [
    "#### 1. Data ###################################################################################\n",
    "\n",
    "################################################################################################\n",
    "# This is where you will load the data from the pickle files. For parts 1 and 2, you will use\n",
    "# p1_data.pkl. For Part 3, you will use pt3_data.pkl.\n",
    "################################################################################################"
   ]
  },
  {
   "cell_type": "code",
   "execution_count": 3,
   "metadata": {},
   "outputs": [],
   "source": [
    "with open('data/pt3_data.pkl', 'rb') as file:\n",
    "    data = pickle.load(file)"
   ]
  },
  {
   "cell_type": "code",
   "execution_count": 2082,
   "metadata": {},
   "outputs": [],
   "source": [
    "################################################################################################\n",
    "# Each element of the data dictionary is stored as an item from the data dictionary, which we\n",
    "# will store in local variables, described by the following:\n",
    "#   gt: Data object containing ground truth. with the following fields:\n",
    "#     a: Acceleration of the vehicle, in the inertial frame\n",
    "#     v: Velocity of the vehicle, in the inertial frame\n",
    "#     p: Position of the vehicle, in the inertial frame\n",
    "#     alpha: Rotational acceleration of the vehicle, in the inertial frame\n",
    "#     w: Rotational velocity of the vehicle, in the inertial frame\n",
    "#     r: Rotational position of the vehicle, in Euler (XYZ) angles in the inertial frame\n",
    "#     _t: Timestamp in ms.\n",
    "#   imu_f: StampedData object with the imu specific force data (given in vehicle frame).\n",
    "#     data: The actual data\n",
    "#     t: Timestamps in ms.\n",
    "#   imu_w: StampedData object with the imu rotational velocity (given in the vehicle frame).\n",
    "#     data: The actual data\n",
    "#     t: Timestamps in ms.\n",
    "#   gnss: StampedData object with the GNSS data.\n",
    "#     data: The actual data\n",
    "#     t: Timestamps in ms.\n",
    "#   lidar: StampedData object with the LIDAR data (positions only).\n",
    "#     data: The actual data\n",
    "#     t: Timestamps in ms.\n",
    "################################################################################################"
   ]
  },
  {
   "cell_type": "code",
   "execution_count": 4,
   "metadata": {
    "scrolled": true
   },
   "outputs": [],
   "source": [
    "gt = data['gt']\n",
    "imu_f = data['imu_f']\n",
    "imu_w = data['imu_w']\n",
    "gnss = data['gnss']\n",
    "lidar = data['lidar']"
   ]
  },
  {
   "cell_type": "code",
   "execution_count": 5,
   "metadata": {},
   "outputs": [
    {
     "data": {
      "text/plain": [
       "{'do_diff': True,\n",
       " '_p_init': array([[ 8.34462935e-06,  9.08568545e-05, -5.00664425e+00],\n",
       "        [ 7.85825614e-06,  9.12463729e-05, -5.00662613e+00],\n",
       "        [ 7.38141944e-06,  9.16224817e-05, -5.00660801e+00],\n",
       "        ...,\n",
       "        [ 1.86048538e+02,  7.77716217e+01, -5.00547981e+00],\n",
       "        [ 1.86111771e+02,  7.77564240e+01, -5.00548649e+00],\n",
       "        [ 1.86174973e+02,  7.77412415e+01, -5.00549507e+00]]),\n",
       " '_r_init': array([[-4.10126808e-05, -6.78300823e-05,  1.06526437e-06],\n",
       "        [-3.99474123e-05, -6.62803603e-05,  1.06526437e-06],\n",
       "        [-3.88821479e-05, -6.48498500e-05,  1.06526437e-06],\n",
       "        ...,\n",
       "        [ 2.21818388e-05, -3.69322291e-03, -2.35822166e-01],\n",
       "        [ 2.22517703e-05, -3.64327407e-03, -2.35821783e-01],\n",
       "        [ 2.23312779e-05, -3.58641116e-03, -2.35821466e-01]]),\n",
       " '_v_init': array([None], dtype=object),\n",
       " '_w_init': array([None], dtype=object),\n",
       " '_a_init': array([None], dtype=object),\n",
       " '_alpha_init': array([None], dtype=object),\n",
       " '_t': array([ 2.055,  2.06 ,  2.065, ..., 56.64 , 56.645, 56.65 ]),\n",
       " '_p': array([[ 0.00000000e+00,  0.00000000e+00,  0.00000000e+00],\n",
       "        [-4.86373210e-07,  3.89518391e-07,  1.81198120e-05],\n",
       "        [-9.63209914e-07,  7.65627192e-07,  3.62396240e-05],\n",
       "        ...,\n",
       "        [ 1.03432021e+02,  1.86314011e+02,  1.22690201e-03],\n",
       "        [ 1.03486778e+02,  1.86271821e+02,  1.22404099e-03],\n",
       "        [ 1.03541534e+02,  1.86229615e+02,  1.22165680e-03]]),\n",
       " '_r': array([[-4.10126808e-05, -6.78300823e-05,  1.06526437e-06],\n",
       "        [-3.99474123e-05, -6.62803603e-05,  1.06526437e-06],\n",
       "        [-3.88821479e-05, -6.48498500e-05,  1.06526437e-06],\n",
       "        ...,\n",
       "        [-2.56196071e-03, -3.46219524e-03, -6.56093237e-01],\n",
       "        [-2.49378352e-03, -3.45718829e-03, -6.56092438e-01],\n",
       "        [-2.42720502e-03, -3.45218160e-03, -6.56091905e-01]]),\n",
       " '_v': array([[-9.72746420e-05,  7.79036782e-05,  3.62396240e-03],\n",
       "        [-9.53673407e-05,  7.52217602e-05,  3.62396240e-03],\n",
       "        [-9.34600394e-05,  7.33722118e-05,  3.43322754e-03],\n",
       "        ...,\n",
       "        [ 1.09512329e+01, -8.43811035e+00, -5.72204590e-04],\n",
       "        [ 1.09512329e+01, -8.44116211e+00, -4.76837158e-04],\n",
       "        [ 1.09542847e+01, -8.44116211e+00, -5.72204590e-04]]),\n",
       " '_w': array([[2.13053700e-04, 3.09944390e-04, 1.27116503e-08],\n",
       "        [2.13052887e-04, 2.86102076e-04, 1.14290376e-08],\n",
       "        [2.13052074e-04, 2.86102076e-04, 1.11242632e-08],\n",
       "        ...,\n",
       "        [1.36359900e-02, 1.00097752e-03, 1.62353703e-04],\n",
       "        [1.33160697e-02, 1.00106940e-03, 1.09022594e-04],\n",
       "        [1.29970656e-02, 1.00081810e-03, 2.15481441e-04]]),\n",
       " '_a': array([[ 3.81460268e-04, -5.36383595e-04,  9.81000000e+00],\n",
       "        [ 3.81460268e-04, -3.69909685e-04,  9.77185303e+00],\n",
       "        [ 7.62938726e-04, -5.95755409e-04,  9.79092651e+00],\n",
       "        ...,\n",
       "        [ 3.11253245e-09, -6.10351565e-01,  9.82907349e+00],\n",
       "        [ 6.10351559e-01,  2.39914755e-09,  9.79092651e+00],\n",
       "        [ 9.15527347e-01, -1.22070313e+00,  9.82907349e+00]]),\n",
       " '_alpha': array([[-1.62546453e-07, -4.76846275e-03, -2.56522546e-07],\n",
       "        [-1.62546453e-07,  2.40306906e-12, -6.09548733e-08],\n",
       "        [ 3.25092903e-07,  2.33195624e-12, -6.09546408e-08],\n",
       "        ...,\n",
       "        [-6.39840632e-02,  1.83755593e-05, -1.06662218e-02],\n",
       "        [-6.38008114e-02, -5.02606774e-05,  2.12917694e-02],\n",
       "        [-4.26983045e-02,  4.46576785e-05, -1.33286709e-02]])}"
      ]
     },
     "execution_count": 5,
     "metadata": {},
     "output_type": "execute_result"
    }
   ],
   "source": [
    "gt.__dict__"
   ]
  },
  {
   "cell_type": "code",
   "execution_count": 6,
   "metadata": {},
   "outputs": [
    {
     "data": {
      "text/plain": [
       "array([[-1.21543380e+00, -9.50942168e-02, -4.99910491e-01],\n",
       "       [ 1.51615773e-01, -3.22337937e-01,  1.98545449e-01],\n",
       "       [-2.59387164e-01, -6.74227693e-01,  5.02131391e-01],\n",
       "       ...,\n",
       "       [ 1.88739634e+02,  6.00823985e+01,  5.59282323e+00],\n",
       "       [ 1.89719938e+02,  6.04801328e+01,  5.65767381e+00],\n",
       "       [ 1.91144238e+02,  5.93167056e+01,  5.82667079e+00]])"
      ]
     },
     "execution_count": 6,
     "metadata": {},
     "output_type": "execute_result"
    }
   ],
   "source": [
    "lidar.data"
   ]
  },
  {
   "cell_type": "code",
   "execution_count": 7,
   "metadata": {},
   "outputs": [
    {
     "data": {
      "text/plain": [
       "((8734, 3), (8734, 3))"
      ]
     },
     "execution_count": 7,
     "metadata": {},
     "output_type": "execute_result"
    }
   ],
   "source": [
    "gt._v.shape, gt._a.shape"
   ]
  },
  {
   "cell_type": "code",
   "execution_count": 8,
   "metadata": {},
   "outputs": [
    {
     "data": {
      "text/plain": [
       "({'data': array([[-0.01996148,  0.03136036,  9.78135591],\n",
       "         [-0.01986699,  0.03743271,  9.79679338],\n",
       "         [ 0.01269854, -0.02131687,  9.81265361],\n",
       "         ...,\n",
       "         [-1.32458701,  0.35196761,  9.73522034],\n",
       "         [-0.47210374, -0.42987602,  9.76335312],\n",
       "         [-1.31729961,  0.29819817,  9.76891354]]),\n",
       "  't': array([ 2.055,  2.06 ,  2.065, ..., 56.64 , 56.645, 56.65 ])},\n",
       " (10918, 3))"
      ]
     },
     "execution_count": 8,
     "metadata": {},
     "output_type": "execute_result"
    }
   ],
   "source": [
    "imu_f.__dict__, imu_f.data.shape"
   ]
  },
  {
   "cell_type": "code",
   "execution_count": 2088,
   "metadata": {},
   "outputs": [],
   "source": [
    "################################################################################################\n",
    "# Let's plot the ground truth trajectory to see what it looks like. When you're testing your\n",
    "# code later, feel free to comment this out.\n",
    "################################################################################################"
   ]
  },
  {
   "cell_type": "code",
   "execution_count": 9,
   "metadata": {},
   "outputs": [
    {
     "data": {
      "image/png": "[encoded data removed]",
      "text/plain": [
       "<Figure size 420x280 with 1 Axes>"
      ]
     },
     "metadata": {
      "needs_background": "light"
     },
     "output_type": "display_data"
    }
   ],
   "source": [
    "gt_fig = plt.figure()\n",
    "ax = gt_fig.add_subplot(111, projection='3d')\n",
    "ax.plot(gt.p[:,0], gt.p[:,1], gt.p[:,2])\n",
    "ax.set_xlabel('x [m]')\n",
    "ax.set_ylabel('y [m]')\n",
    "ax.set_zlabel('z [m]')\n",
    "ax.set_title('Ground Truth trajectory')\n",
    "ax.set_zlim(-1, 5)\n",
    "plt.show()"
   ]
  },
  {
   "cell_type": "code",
   "execution_count": 2090,
   "metadata": {},
   "outputs": [],
   "source": [
    "################################################################################################\n",
    "# Remember that our LIDAR data is actually just a set of positions estimated from a separate\n",
    "# scan-matching system, so we can insert it into our solver as another position measurement,\n",
    "# just as we do for GNSS. However, the LIDAR frame is not the same as the frame shared by the\n",
    "# IMU and the GNSS. To remedy this, we transform the LIDAR data to the IMU frame using our \n",
    "# known extrinsic calibration rotation matrix C_li and translation vector t_i_li.\n",
    "#\n",
    "# THIS IS THE CODE YOU WILL MODIFY FOR PART 2 OF THE ASSIGNMENT.\n",
    "################################################################################################\n",
    "# Correct calibration rotation matrix, corresponding to Euler RPY angles (0.05, 0.05, 0.1)."
   ]
  },
  {
   "cell_type": "code",
   "execution_count": 2091,
   "metadata": {},
   "outputs": [],
   "source": [
    "# C_li = np.array([\n",
    "#    [ 0.99376, -0.09722,  0.05466],\n",
    "#    [ 0.09971,  0.99401, -0.04475],\n",
    "#    [-0.04998,  0.04992,  0.9975 ]\n",
    "# ])"
   ]
  },
  {
   "cell_type": "code",
   "execution_count": 10,
   "metadata": {},
   "outputs": [],
   "source": [
    "# Incorrect calibration rotation matrix, corresponding to Euler RPY angles (0.05, 0.05, 0.05).\n",
    "C_li = np.array([\n",
    "     [ 0.9975 , -0.04742,  0.05235],\n",
    "     [ 0.04992,  0.99763, -0.04742],\n",
    "     [-0.04998,  0.04992,  0.9975 ]\n",
    "])\n"
   ]
  },
  {
   "cell_type": "code",
   "execution_count": 11,
   "metadata": {},
   "outputs": [],
   "source": [
    "t_i_li = np.array([0.5, 0.1, 0.5])"
   ]
  },
  {
   "cell_type": "code",
   "execution_count": 12,
   "metadata": {},
   "outputs": [],
   "source": [
    "# Transform from the LIDAR frame to the vehicle (IMU) frame.\n",
    "lidar.data = (C_li @ lidar.data.T).T + t_i_li"
   ]
  },
  {
   "cell_type": "code",
   "execution_count": 13,
   "metadata": {},
   "outputs": [
    {
     "data": {
      "text/plain": [
       "array([[-7.34056166e-01, -3.18375435e-02,  5.73395632e-02],\n",
       "       [ 6.76915852e-01, -2.23420362e-01,  6.74380219e-01],\n",
       "       [ 2.99519759e-01, -6.09389451e-01,  9.80182787e-01],\n",
       "       ...,\n",
       "       [ 1.86211462e+02,  6.91966741e+01, -3.55052408e-01],\n",
       "       [ 1.87173849e+02,  6.96393273e+01, -3.19504638e-01],\n",
       "       [ 1.88658605e+02,  6.85417446e+01, -2.80194945e-01]])"
      ]
     },
     "execution_count": 13,
     "metadata": {},
     "output_type": "execute_result"
    }
   ],
   "source": [
    "lidar.data"
   ]
  },
  {
   "cell_type": "code",
   "execution_count": 14,
   "metadata": {},
   "outputs": [],
   "source": [
    "#### 2. Constants ##############################################################################\n",
    "\n",
    "################################################################################################\n",
    "# Now that our data is set up, we can start getting things ready for our solver. One of the\n",
    "# most important aspects of a filter is setting the estimated sensor variances correctly.\n",
    "# We set the values here.\n",
    "################################################################################################\n",
    "var_imu_f = 0.05\n",
    "var_imu_w = 0.001\n",
    "var_gnss  = 0.5\n",
    "var_lidar = 0.2"
   ]
  },
  {
   "cell_type": "code",
   "execution_count": 15,
   "metadata": {},
   "outputs": [],
   "source": [
    "################################################################################################\n",
    "# We can also set up some constants that won't change for any iteration of our solver.\n",
    "################################################################################################\n",
    "g = np.array([0, 0, -9.81])  # gravity\n",
    "l_jac = np.zeros([9, 6])\n",
    "l_jac[3:, :] = np.eye(6)  # motion model noise jacobian\n",
    "h_jac = np.zeros([3, 9])\n",
    "h_jac[:, :3] = np.eye(3)  # measurement model jacobian"
   ]
  },
  {
   "cell_type": "code",
   "execution_count": 16,
   "metadata": {},
   "outputs": [],
   "source": [
    "#### 3. Initial Values #########################################################################\n",
    "\n",
    "################################################################################################\n",
    "# Let's set up some initial values for our ES-EKF solver.\n",
    "################################################################################################\n",
    "p_est = np.zeros([imu_f.data.shape[0], 3])  # position estimates\n",
    "v_est = np.zeros([imu_f.data.shape[0], 3])  # velocity estimates\n",
    "q_est = np.zeros([imu_f.data.shape[0], 4])  # orientation estimates as quaternions\n",
    "p_cov = np.zeros([imu_f.data.shape[0], 9, 9])  # covariance matrices at each timestep"
   ]
  },
  {
   "cell_type": "code",
   "execution_count": 17,
   "metadata": {},
   "outputs": [
    {
     "data": {
      "text/plain": [
       "array([[0., 0., 0.],\n",
       "       [0., 0., 0.],\n",
       "       [0., 0., 0.],\n",
       "       ...,\n",
       "       [0., 0., 0.],\n",
       "       [0., 0., 0.],\n",
       "       [0., 0., 0.]])"
      ]
     },
     "execution_count": 17,
     "metadata": {},
     "output_type": "execute_result"
    }
   ],
   "source": [
    "p_est"
   ]
  },
  {
   "cell_type": "code",
   "execution_count": 18,
   "metadata": {},
   "outputs": [],
   "source": [
    "# Set initial values.\n",
    "p_est[0] = gt.p[0]\n",
    "v_est[0] = gt.v[0]\n",
    "q_est[0] = Quaternion(euler=gt.r[0]).to_numpy()\n",
    "p_cov[0] = np.zeros(9)  # covariance of estimate\n",
    "gnss_i  = 0\n",
    "lidar_i = 0"
   ]
  },
  {
   "cell_type": "code",
   "execution_count": 19,
   "metadata": {},
   "outputs": [
    {
     "data": {
      "text/plain": [
       "array([-4.86373210e-07,  3.89518391e-07,  1.81198120e-05])"
      ]
     },
     "execution_count": 19,
     "metadata": {},
     "output_type": "execute_result"
    }
   ],
   "source": [
    "gt.p[1]"
   ]
  },
  {
   "cell_type": "code",
   "execution_count": 20,
   "metadata": {},
   "outputs": [],
   "source": [
    "#### 4. Measurement Update #####################################################################\n",
    "\n",
    "################################################################################################\n",
    "# Since we'll need a measurement update for both the GNSS and the LIDAR data, let's make\n",
    "# a function for it.\n",
    "################################################################################################\n",
    "def measurement_update(sensor_var, p_cov_check, y_k, p_check, v_check, q_check):\n",
    "    # 3.1 Compute Kalman Gain\n",
    "    r_cov = np.eye(3) * sensor_var\n",
    "    k_gain = p_cov_check.dot(h_jac.T).dot(np.linalg.inv(h_jac.dot(p_cov_check).dot(h_jac.T) + r_cov))\n",
    "    # 3.2 Compute error state\n",
    "    x_error = k_gain.dot(y_k - p_check)\n",
    "    # 3.3 Correct predicted state\n",
    "    p_hat = p_check + x_error[0:3]\n",
    "    v_hat = v_check + x_error[3:6]\n",
    "    q_hat = Quaternion(euler=x_error[6:9]).quat_mult_left(q_check)\n",
    "    # 3.4 Compute corrected covariance\n",
    "    p_cov_hat = (np.eye(9) - k_gain.dot(h_jac)).dot(p_cov_check)\n",
    "    return p_hat, v_hat, q_hat, p_cov_hat"
   ]
  },
  {
   "cell_type": "code",
   "execution_count": 21,
   "metadata": {},
   "outputs": [],
   "source": [
    "# ??Quaternion"
   ]
  },
  {
   "cell_type": "code",
   "execution_count": 22,
   "metadata": {},
   "outputs": [
    {
     "data": {
      "text/plain": [
       "array([[ 9.99999998e-01, -1.06248248e-06, -6.78301259e-05],\n",
       "       [ 1.06526437e-06,  9.99999999e-01,  4.10126085e-05],\n",
       "       [ 6.78300822e-05, -4.10126807e-05,  9.99999997e-01]])"
      ]
     },
     "execution_count": 22,
     "metadata": {},
     "output_type": "execute_result"
    }
   ],
   "source": [
    "Quaternion(*q_est[0]).to_mat()"
   ]
  },
  {
   "cell_type": "code",
   "execution_count": 23,
   "metadata": {},
   "outputs": [],
   "source": [
    "# ??skew_symmetric"
   ]
  },
  {
   "cell_type": "code",
   "execution_count": 24,
   "metadata": {},
   "outputs": [
    {
     "data": {
      "text/plain": [
       "array([[0, 0],\n",
       "       [1, 0],\n",
       "       [0, 1]])"
      ]
     },
     "execution_count": 24,
     "metadata": {},
     "output_type": "execute_result"
    }
   ],
   "source": [
    "aa = np.array([[0,0], [1,0],[0,1]])\n",
    "aa"
   ]
  },
  {
   "cell_type": "code",
   "execution_count": 25,
   "metadata": {},
   "outputs": [],
   "source": [
    "#### 5. Main Filter Loop #######################################################################\n",
    "\n",
    "################################################################################################\n",
    "# Now that everything is set up, we can start taking in the sensor data and creating estimates\n",
    "# for our state in a loop.\n",
    "################################################################################################\n",
    "for k in range(1, imu_f.data.shape[0]):  # start at 1 b/c we have initial prediction from gt\n",
    "    delta_t = imu_f.t[k] - imu_f.t[k - 1]\n",
    "\n",
    "    # 1. Update state with IMU inputs\n",
    "    C_ns = Quaternion(*q_est[k-1]).to_mat()\n",
    "    \n",
    "    C_ns_d_f_km = np.dot(C_ns, imu_f.data[k-1])\n",
    "    \n",
    "    p_est[k] = p_est[k-1] + delta_t * v_est[k-1] + (delta_t**2) / 2 * (C_ns_d_f_km + g)\n",
    "    v_est[k] = v_est[k-1] + delta_t * (C_ns_d_f_km + g)\n",
    "    q_fr_w = Quaternion(axis_angle=imu_w.data[k-1] * delta_t)\n",
    "    q_est[k] = q_fr_w.quat_mult_right(q_est[k-1])\n",
    "    \n",
    "    # 1.1 Linearize the motion model and compute Jacobians\n",
    "    f_ja_km = np.identity(9)\n",
    "    f_ja_km[0:3, 3:6] = np.identity(3) * delta_t\n",
    "    f_ja_km[3:6, 6:9] = -skew_symmetric(C_ns_d_f_km) * delta_t\n",
    "    \n",
    "    # 2. Propagate uncertainty\n",
    "    q_cov_km = np.identity(6)\n",
    "    q_cov_km[0:3,0:3] *=  delta_t**2 * np.eye(3) * var_imu_f\n",
    "    q_cov_km[3:6, 3:6] *= delta_t**2 * np.eye(3) * var_imu_w\n",
    "    p_cov[k] = f_ja_km.dot(p_cov[k-1]).dot(f_ja_km.T) + l_jac.dot(q_cov_km).dot(l_jac.T)\n",
    "    # 3. Check availability of GNSS and LIDAR measurements\n",
    "    if gnss_i < gnss.data.shape[0] and imu_f.t[k] == gnss.t[gnss_i]:\n",
    "        p_est[k], v_est[k], q_est[k], p_cov[k] = \\\n",
    "            measurement_update(var_gnss, p_cov[k], gnss.data[gnss_i].T, p_est[k], v_est[k], q_est[k])\n",
    "        gnss_i += 1\n",
    "        \n",
    "    if lidar_i < lidar.t.shape[0] and lidar.t[lidar_i] == imu_f.t[k-1]:\n",
    "        p_est[k], v_est[k], q_est[k], p_cov[k] = \\\n",
    "            measurement_update(var_lidar, p_cov[k], lidar.data[lidar_i].T, p_est[k], v_est[k], q_est[k])\n",
    "        lidar_i += 1\n"
   ]
  },
  {
   "cell_type": "code",
   "execution_count": 26,
   "metadata": {},
   "outputs": [
    {
     "ename": "NameError",
     "evalue": "name 'q_check' is not defined",
     "output_type": "error",
     "traceback": [
      "\u001b[1;31m---------------------------------------------------------------------------\u001b[0m",
      "\u001b[1;31mNameError\u001b[0m                                 Traceback (most recent call last)",
      "\u001b[1;32m<ipython-input-26-207ccc50f107>\u001b[0m in \u001b[0;36m<module>\u001b[1;34m\u001b[0m\n\u001b[1;32m----> 1\u001b[1;33m \u001b[0mq_check\u001b[0m\u001b[1;33m\u001b[0m\u001b[1;33m\u001b[0m\u001b[0m\n\u001b[0m",
      "\u001b[1;31mNameError\u001b[0m: name 'q_check' is not defined"
     ]
    }
   ],
   "source": [
    "q_check"
   ]
  },
  {
   "cell_type": "code",
   "execution_count": null,
   "metadata": {},
   "outputs": [],
   "source": [
    "np.zeros(3)"
   ]
  },
  {
   "cell_type": "code",
   "execution_count": null,
   "metadata": {},
   "outputs": [
    {
     "data": {
      "text/plain": [
       "(-1, 5)"
      ]
     },
     "execution_count": 39,
     "metadata": {},
     "output_type": "execute_result"
    },
    {
     "data": {
      "image/png": "[encoded data removed]",
      "text/plain": [
       "<Figure size 420x280 with 2 Axes>"
      ]
     },
     "metadata": {
      "needs_background": "light"
     },
     "output_type": "display_data"
    }
   ],
   "source": [
    "#### 6. Results and Analysis ###################################################################\n",
    "\n",
    "################################################################################################\n",
    "# Now that we have state estimates for all of our sensor data, let's plot the results. This plot\n",
    "# will show the ground truth and the estimated trajectories on the same plot. Notice that the\n",
    "# estimated trajectory continues past the ground truth. This is because we will be evaluating\n",
    "# your estimated poses from the part of the trajectory where you don't have ground truth!\n",
    "################################################################################################\n",
    "# est_traj_fig = plt.figure(figsize=(100.0,100.0))\n",
    "# ax = est_traj_fig.add_subplot(111, projection='3d')\n",
    "# ax.plot(p_est[:,0], p_est[:,1], p_est[:,2], label='Estimated')\n",
    "# ax.plot(gt.p[:,0], gt.p[:,1], gt.p[:,2], label='Ground Truth')\n",
    "# ax.set_xlabel('Easting [m]')\n",
    "# ax.set_ylabel('Northing [m]')\n",
    "# ax.set_zlabel('Up [m]')\n",
    "# ax.set_title('Ground Truth and Estimated Trajectory')\n",
    "# ax.set_xlim(0, 200)\n",
    "# ax.set_ylim(0, 200)\n",
    "# ax.set_zlim(-2, 2)\n",
    "# ax.set_xticks([0, 50, 100, 150, 200])\n",
    "# ax.set_yticks([0, 50, 100, 150, 200])\n",
    "# ax.set_zticks([-2, -1, 0, 1, 2])\n",
    "# ax.legend(loc=(0.62,0.77))\n",
    "# ax.view_init(elev=45, azim=-50)\n",
    "# plt.show()\n",
    "\n",
    "plt.subplot(121)\n",
    "plt.plot(p_est[:,0], p_est[:,1], label='Estimated', color='r')\n",
    "plt.plot(gt.p[:,0], gt.p[:,1], label='Ground Truth', color='b')\n",
    "plt.title(\"X-Y compare\")\n",
    "plt.legend(['estimate', 'gt'])\n",
    "\n",
    "plt.subplot(122)\n",
    "plt.plot(p_est[:,2], color='r')\n",
    "plt.plot(gt.p[:,2], color='b')\n",
    "plt.title(\"Z compare\")\n",
    "plt.legend(['estimate', 'gt'])\n",
    "\n",
    "#plt.subplot(123)\n",
    "\n",
    "k = 400000\n",
    "est_traj_fig = plt.figure()\n",
    "ax = est_traj_fig.add_subplot(111, projection='3d')\n",
    "ax.plot(p_est[:k,0], p_est[:k,1], p_est[:k,2], label='Estimated')\n",
    "ax.plot(gt.p[:k,0], gt.p[:k,1], gt.p[:k,2], label='Ground Truth')\n",
    "ax.set_xlabel('x [m]')\n",
    "ax.set_ylabel('y [m]')\n",
    "ax.set_zlabel('z [m]')\n",
    "ax.set_title('Final Estimated Trajectory')\n",
    "ax.legend()\n",
    "ax.set_zlim(-1, 5)"
   ]
  },
  {
   "cell_type": "code",
   "execution_count": 35,
   "metadata": {},
   "outputs": [
    {
     "data": {
      "image/png": "[encoded data removed]",
      "text/plain": [
       "<Figure size 420x280 with 6 Axes>"
      ]
     },
     "metadata": {
      "needs_background": "light"
     },
     "output_type": "display_data"
    }
   ],
   "source": [
    "################################################################################################\n",
    "# We can also plot the error for each of the 6 DOF, with estimates for our uncertainty\n",
    "# included. The error estimates are in blue, and the uncertainty bounds are red and dashed.\n",
    "# The uncertainty bounds are +/- 3 standard deviations based on our uncertainty (covariance).\n",
    "################################################################################################\n",
    "error_fig, ax = plt.subplots(2, 3)\n",
    "error_fig.suptitle('Error Plots')\n",
    "num_gt = gt.p.shape[0]\n",
    "p_est_euler = []\n",
    "p_cov_euler_std = []\n",
    "\n",
    "# Convert estimated quaternions to euler angles\n",
    "for i in range(len(q_est)):\n",
    "    qc = Quaternion(*q_est[i, :])\n",
    "    p_est_euler.append(qc.to_euler())\n",
    "\n",
    "    # First-order approximation of RPY covariance\n",
    "    J = rpy_jacobian_axis_angle(qc.to_axis_angle())\n",
    "    p_cov_euler_std.append(np.sqrt(np.diagonal(J @ p_cov[i, 6:, 6:] @ J.T)))\n",
    "\n",
    "p_est_euler = np.array(p_est_euler)\n",
    "p_cov_euler_std = np.array(p_cov_euler_std)\n",
    "\n",
    "# Get uncertainty estimates from P matrix\n",
    "p_cov_std = np.sqrt(np.diagonal(p_cov[:, :6, :6], axis1=1, axis2=2))\n",
    "\n",
    "titles = ['Easting', 'Northing', 'Up', 'Roll', 'Pitch', 'Yaw']\n",
    "for i in range(3):\n",
    "    ax[0, i].plot(range(num_gt), gt.p[:, i] - p_est[:num_gt, i])\n",
    "    ax[0, i].plot(range(num_gt),  3 * p_cov_std[:num_gt, i], 'r--')\n",
    "    ax[0, i].plot(range(num_gt), -3 * p_cov_std[:num_gt, i], 'r--')\n",
    "    ax[0, i].set_title(titles[i])\n",
    "ax[0,0].set_ylabel('Meters')\n",
    "\n",
    "for i in range(3):\n",
    "    ax[1, i].plot(range(num_gt), \\\n",
    "        angle_normalize(gt.r[:, i] - p_est_euler[:num_gt, i]))\n",
    "    ax[1, i].plot(range(num_gt),  3 * p_cov_euler_std[:num_gt, i], 'r--')\n",
    "    ax[1, i].plot(range(num_gt), -3 * p_cov_euler_std[:num_gt, i], 'r--')\n",
    "    ax[1, i].set_title(titles[i+3])\n",
    "ax[1,0].set_ylabel('Radians')\n",
    "plt.show()"
   ]
  },
  {
   "cell_type": "code",
   "execution_count": null,
   "metadata": {},
   "outputs": [],
   "source": [
    "#### 7. Submission #############################################################################\n",
    "\n",
    "################################################################################################\n",
    "# Now we can prepare your results for submission to the Coursera platform. Uncomment the\n",
    "# corresponding lines to prepare a file that will save your position estimates in a format\n",
    "# that corresponds to what we're expecting on Coursera.\n",
    "################################################################################################\n",
    "\n",
    "# Pt. 1 submission\n",
    "# p1_indices = [9000, 9400, 9800, 10200, 10600]\n",
    "# p1_str = ''\n",
    "# for val in p1_indices:\n",
    "#     for i in range(3):\n",
    "#         p1_str += '%.3f ' % (p_est[val, i])\n",
    "# with open('pt1_submission.txt', 'w') as file:\n",
    "#     file.write(p1_str)\n",
    "\n",
    "# Pt. 2 submission\n",
    "# p2_indices = [9000, 9400, 9800, 10200, 10600]\n",
    "# p2_str = ''\n",
    "# for val in p2_indices:\n",
    "#     for i in range(3):\n",
    "#         p2_str += '%.3f ' % (p_est[val, i])\n",
    "# with open('pt2_submission.txt', 'w') as file:\n",
    "#     file.write(p2_str)\n",
    "\n",
    "# Pt. 3 submission\n",
    "# p3_indices = [6800, 7600, 8400, 9200, 10000]\n",
    "# p3_str = ''\n",
    "# for val in p3_indices:\n",
    "#     for i in range(3):\n",
    "#         p3_str += '%.3f ' % (p_est[val, i])\n",
    "# with open('pt3_submission.txt', 'w') as file:\n",
    "#     file.write(p3_str)"
   ]
  },
  {
   "cell_type": "code",
   "execution_count": null,
   "metadata": {},
   "outputs": [],
   "source": []
  }
 ],
 "metadata": {
  "kernelspec": {
   "display_name": "Python 3",
   "language": "python",
   "name": "python3"
  },
  "language_info": {
   "codemirror_mode": {
    "name": "ipython",
    "version": 3
   },
   "file_extension": ".py",
   "mimetype": "text/x-python",
   "name": "python",
   "nbconvert_exporter": "python",
   "pygments_lexer": "ipython3",
   "version": "3.6.8"
  }
 },
 "nbformat": 4,
 "nbformat_minor": 4
}
